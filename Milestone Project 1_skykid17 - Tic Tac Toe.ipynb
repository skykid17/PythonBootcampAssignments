{
 "cells": [
  {
   "cell_type": "code",
   "execution_count": 1,
   "id": "c685036a",
   "metadata": {},
   "outputs": [],
   "source": [
    "from IPython.display import clear_output\n",
    "def display_board(board):\n",
    "\n",
    "    print('   |   |')\n",
    "    print(' ' + board[7] + ' | ' + board[8] + ' | ' + board[9])\n",
    "    print('   |   |')\n",
    "    print('---------------')\n",
    "    print('   |   |')\n",
    "    print(' ' + board[4] + ' | ' + board[5] + ' | ' + board[6])\n",
    "    print('   |   |')\n",
    "    print('---------------')\n",
    "    print('   |   |')\n",
    "    print(' ' + board[1] + ' | ' + board[2] + ' | ' + board[3])\n",
    "    print('   |   |')"
   ]
  },
  {
   "cell_type": "code",
   "execution_count": 2,
   "id": "6a611fe2",
   "metadata": {},
   "outputs": [],
   "source": [
    "def welcome_player():\n",
    "    global name1\n",
    "    global name2\n",
    "    name1 = '1'\n",
    "    name2 = '1'\n",
    "\n",
    "    while name1.isalpha() == False:\n",
    "        name1 = input(\"Player1 name: \")\n",
    "        if name1.isalpha() == False:\n",
    "            print(\"Sorry, but you did not enter a name. Please try again.\") \n",
    "        \n",
    "    while name2.isalpha() == False:\n",
    "        name2 = input(\"Player2 name: \")\n",
    "        \n",
    "        if name2.isalpha() == False:\n",
    "            clear_output()\n",
    "            print(\"Sorry, but you did not enter a name. Please try again.\")  \n",
    "    return name1, name2"
   ]
  },
  {
   "cell_type": "code",
   "execution_count": 3,
   "id": "e435f668",
   "metadata": {},
   "outputs": [],
   "source": [
    "def choose_marker():\n",
    "    marker =''\n",
    "    \n",
    "    while not (marker =='X' or marker == \"O\"):\n",
    "        marker = input(f\"{name1}: Do you want to be X or O?\").upper()\n",
    "        \n",
    "        if marker == 'X':\n",
    "            return ('X','O')\n",
    "        else:\n",
    "            return ('O','X')"
   ]
  },
  {
   "cell_type": "code",
   "execution_count": 4,
   "id": "4e86d01d",
   "metadata": {},
   "outputs": [],
   "source": [
    "import random\n",
    "\n",
    "def choose_first():\n",
    "    if random.randint(0, 1) == 0:\n",
    "        return name2\n",
    "    else:\n",
    "        return name1"
   ]
  },
  {
   "cell_type": "code",
   "execution_count": 5,
   "id": "5c88494c",
   "metadata": {},
   "outputs": [],
   "source": [
    "def win_check(board,mark):\n",
    "    \n",
    "    return ((board[7] == mark and board[8] == mark and board[9] == mark) or # across the top\n",
    "    (board[4] == mark and board[5] == mark and board[6] == mark) or # across the middle\n",
    "    (board[1] == mark and board[2] == mark and board[3] == mark) or # across the bottom\n",
    "    (board[7] == mark and board[4] == mark and board[1] == mark) or # down the middle\n",
    "    (board[8] == mark and board[5] == mark and board[2] == mark) or # down the middle\n",
    "    (board[9] == mark and board[6] == mark and board[3] == mark) or # down the right side\n",
    "    (board[7] == mark and board[5] == mark and board[3] == mark) or # diagonal\n",
    "    (board[9] == mark and board[5] == mark and board[1] == mark)) # diagonal"
   ]
  },
  {
   "cell_type": "code",
   "execution_count": 6,
   "id": "b94bfefa",
   "metadata": {},
   "outputs": [],
   "source": [
    "def place_marker(board, marker, position):\n",
    "    board[position] = marker"
   ]
  },
  {
   "cell_type": "code",
   "execution_count": 7,
   "id": "5b9432ab",
   "metadata": {},
   "outputs": [],
   "source": [
    "def space_check(board, position):\n",
    "    return board[position] == ' '"
   ]
  },
  {
   "cell_type": "code",
   "execution_count": 8,
   "id": "a67f9413",
   "metadata": {},
   "outputs": [],
   "source": [
    "def full_board_check(board):\n",
    "    for i in range(1,10):\n",
    "        if space_check(board, i):\n",
    "            return False\n",
    "    return True"
   ]
  },
  {
   "cell_type": "code",
   "execution_count": 9,
   "id": "571ad6ac",
   "metadata": {},
   "outputs": [],
   "source": [
    "def replay():\n",
    "    return input('Do you want to play again? Enter Y or N:').lower().startswith('y')"
   ]
  },
  {
   "cell_type": "code",
   "execution_count": 10,
   "id": "00ff34a5",
   "metadata": {},
   "outputs": [],
   "source": [
    "def player_choice(board):\n",
    "    \n",
    "    position = 'wrong'\n",
    "    while position not in [1,2,3,4,5,6,7,8,9] or not space_check(board,position):\n",
    "        choice = 'wrong'\n",
    "        choice = input(f'Turn: {turn}. Choose your next position: (1-9) ')\n",
    "        if choice not in ['1','2','3','4','5','6','7','8','9']:\n",
    "            print('Sorry, but you did not enter an integer from 1-9. Please try again.')\n",
    "        else:\n",
    "            position = int(choice)\n",
    "    return position"
   ]
  },
  {
   "cell_type": "code",
   "execution_count": null,
   "id": "3abc5f94",
   "metadata": {},
   "outputs": [
    {
     "name": "stdout",
     "output_type": "stream",
     "text": [
      "Welcome to Tic Tac Toe!\n",
      "Player1 name: George\n",
      "Player2 name: Claire\n",
      "George: Do you want to be X or O?X\n",
      "George will go first.\n",
      "Are you ready to play? Enter Y or N.Y\n",
      "   |   |\n",
      "   |   |  \n",
      "   |   |\n",
      "---------------\n",
      "   |   |\n",
      "   |   |  \n",
      "   |   |\n",
      "---------------\n",
      "   |   |\n",
      "   |   |  \n",
      "   |   |\n",
      "Turn: George. Choose your next position: (1-9) 9\n",
      "   |   |\n",
      "   |   | X\n",
      "   |   |\n",
      "---------------\n",
      "   |   |\n",
      "   |   |  \n",
      "   |   |\n",
      "---------------\n",
      "   |   |\n",
      "   |   |  \n",
      "   |   |\n",
      "Turn: Claire. Choose your next position: (1-9) 2\n",
      "   |   |\n",
      "   |   | X\n",
      "   |   |\n",
      "---------------\n",
      "   |   |\n",
      "   |   |  \n",
      "   |   |\n",
      "---------------\n",
      "   |   |\n",
      "   | O |  \n",
      "   |   |\n"
     ]
    }
   ],
   "source": [
    "while True:    \n",
    "    game_on = False\n",
    "    while not game_on:\n",
    "        print('Welcome to Tic Tac Toe!')\n",
    "        welcome_player()\n",
    "        theBoard = [' ']*10\n",
    "        name1_marker, name2_marker = choose_marker()\n",
    "        turn = choose_first()\n",
    "        print(turn + ' will go first.')\n",
    "        play_game = input('Are you ready to play? Enter Y or N.')\n",
    "        if play_game.lower()[0] == 'y':\n",
    "            game_on = True\n",
    "        else:\n",
    "            game_on = False\n",
    "\n",
    "    while game_on:\n",
    "        if turn == name1:\n",
    "            \n",
    "            display_board(theBoard)\n",
    "            position = player_choice(theBoard)\n",
    "            place_marker(theBoard, name1_marker, position)\n",
    "\n",
    "            if win_check(theBoard, name1_marker):\n",
    "                display_board(theBoard)\n",
    "                print(f'{name1} has won the game!')\n",
    "                game_on = False\n",
    "            else:\n",
    "                if full_board_check(theBoard):\n",
    "                    display_board(theBoard)\n",
    "                    print('The game is a draw!')\n",
    "                    break\n",
    "                else:\n",
    "                    turn = name2\n",
    "\n",
    "        else:\n",
    "\n",
    "            display_board(theBoard)\n",
    "            position = player_choice(theBoard)\n",
    "            place_marker(theBoard, name2_marker, position)\n",
    "\n",
    "            if win_check(theBoard, name2_marker):\n",
    "                display_board(theBoard)\n",
    "                print(f'{name2} has won!')\n",
    "                game_on = False\n",
    "            else:\n",
    "                if full_board_check(theBoard):\n",
    "                    display_board(theBoard)\n",
    "                    print('The game is a draw!')\n",
    "                    break\n",
    "                else:\n",
    "                    turn = name1\n",
    "\n",
    "    if not replay():\n",
    "        break"
   ]
  },
  {
   "cell_type": "code",
   "execution_count": null,
   "id": "779d977b",
   "metadata": {},
   "outputs": [],
   "source": []
  }
 ],
 "metadata": {
  "kernelspec": {
   "display_name": "Python 3 (ipykernel)",
   "language": "python",
   "name": "python3"
  },
  "language_info": {
   "codemirror_mode": {
    "name": "ipython",
    "version": 3
   },
   "file_extension": ".py",
   "mimetype": "text/x-python",
   "name": "python",
   "nbconvert_exporter": "python",
   "pygments_lexer": "ipython3",
   "version": "3.9.7"
  }
 },
 "nbformat": 4,
 "nbformat_minor": 5
}
